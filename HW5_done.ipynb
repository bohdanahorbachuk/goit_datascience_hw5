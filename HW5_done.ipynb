{
 "cells": [
  {
   "cell_type": "code",
   "execution_count": null,
   "id": "4c100c97",
   "metadata": {},
   "outputs": [],
   "source": [
    "import pandas as pd\n",
    "import numpy as np\n",
    "import matplotlib.pyplot as plt\n",
    "from sklearn.cluster import KMeans\n",
    "from sklearn.decomposition import PCA\n"
   ]
  },
  {
   "cell_type": "code",
   "execution_count": null,
   "id": "ae2a0d3e",
   "metadata": {},
   "outputs": [],
   "source": [
    "data_2d = pd.read_csv('data_2d.csv')\n",
    "print(\"Data 2D:\")\n",
    "print(data_2d.head())\n",
    "\n",
    "mnist = pd.read_csv('mnist.csv')\n",
    "print(\"\\nMNIST:\")\n",
    "print(mnist.head())\n"
   ]
  },
  {
   "cell_type": "code",
   "execution_count": null,
   "id": "ff183c86",
   "metadata": {},
   "outputs": [],
   "source": [
    "inertias = []\n",
    "K = range(1, 11)\n",
    "for k in K:\n",
    "    kmeans = KMeans(n_clusters=k, random_state=42).fit(data_2d)\n",
    "    inertias.append(kmeans.inertia_)\n",
    "\n",
    "plt.plot(K, inertias, 'bo-')\n",
    "plt.xlabel(\"Кількість кластерів k\")\n",
    "plt.ylabel(\"Inertia\")\n",
    "plt.title(\"Метод ліктя для data_2d\")\n",
    "plt.show()\n"
   ]
  },
  {
   "cell_type": "code",
   "execution_count": null,
   "id": "adbfc893",
   "metadata": {},
   "outputs": [],
   "source": [
    "pca = PCA(n_components=2, random_state=42)\n",
    "mnist_pca = pca.fit_transform(mnist)\n",
    "\n",
    "inertias_mnist = []\n",
    "K = range(1, 11)\n",
    "for k in K:\n",
    "    kmeans = KMeans(n_clusters=k, random_state=42).fit(mnist_pca)\n",
    "    inertias_mnist.append(kmeans.inertia_)\n",
    "\n",
    "plt.plot(K, inertias_mnist, 'bo-')\n",
    "plt.xlabel(\"Кількість кластерів k\")\n",
    "plt.ylabel(\"Inertia\")\n",
    "plt.title(\"Метод ліктя для MNIST після PCA\")\n",
    "plt.show()\n"
   ]
  },
  {
   "cell_type": "markdown",
   "id": "9a9d5c68",
   "metadata": {},
   "source": [
    "## Висновки\n",
    "\n",
    "- Для **dataset 1 (data_2d)** оптимальна кількість кластерів за методом ліктя становить **k=2**.  \n",
    "  Це логічно, оскільки дані у двовимірному просторі мають дві чітко виражені групи.\n",
    "\n",
    "- Для **dataset 2 (MNIST)** після застосування PCA та побудови графіка ліктя оптимальна кількість кластерів — **k=3**.  \n",
    "  Попри те, що у датасеті є 10 класів (цифри від 0 до 9), після зменшення розмірності дані стискаються, і модель бачить лише 3 основні групи.  \n",
    "  Це пояснюється тим, що PCA залишає лише найбільш виражені напрямки варіацій у даних, тому дрібні відмінності між цифрами (наприклад, 3 і 5) можуть потрапити в один кластер.\n"
   ]
  }
 ],
 "metadata": {},
 "nbformat": 4,
 "nbformat_minor": 5
}
